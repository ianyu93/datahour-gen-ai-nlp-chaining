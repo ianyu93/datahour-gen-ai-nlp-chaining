{
 "cells": [
  {
   "cell_type": "markdown",
   "metadata": {},
   "source": [
    "# NLP Tasks Chaining with GenAI\n",
    "\n",
    "## Overview\n",
    "\n",
    "In this noteobook, we will show how to chain NLP tasks with GenAI. For simplicity, we will be utilizing OpenAI's API, but all the steps can be reproduced in LangChain and/or other models. Logic is the important part. We will be only using `user` role for chat completion, as system message is not necessarily available in other models.\n",
    "\n",
    "We create a chaining where:\n",
    "\n",
    "1. **Natural Language Generation**: We will generate a list of named entity types given a persona and purpose.\n",
    "2. **Named Entity Recognition**: We will pass the generated list of named entity types to a NER model to extract the named entities from a given article.\n",
    "3. **Natural Language Inference**: We will pass the extracted named entities to an NLI task to act as a proxy to data quality check.\n",
    "\n"
   ]
  },
  {
   "cell_type": "code",
   "execution_count": 1,
   "metadata": {},
   "outputs": [],
   "source": [
    "# load dotenv\n",
    "import os\n",
    "from dotenv import load_dotenv\n",
    "load_dotenv(\"../.env\")\n",
    "\n",
    "# get OPENAI_API_KEY\n",
    "OPENAI_API_KEY = os.getenv(\"OPENAI_API_KEY\")"
   ]
  },
  {
   "cell_type": "markdown",
   "metadata": {},
   "source": [
    "## Defining Models / Schema\n",
    "\n",
    "When describing data model, this is not to be confused with machine learning models. A data model is a description of how data should be structured and related to each other. A machine learning model is a mathematical model that learns to make predictions from data.\n",
    "\n",
    "See [How to Create a Data Model in 9 Steps](https://budibase.com/blog/data/how-to-create-a-data-model/).\n",
    "\n",
    "[Pydantic](https://docs.pydantic.dev/latest/) is the most popular library for data validation and settings management based on Python type hints. [Instructor](https://github.com/jxnl/instructor) is a library that extends Pydantic to support OpenAI's function calling. [Function calling](https://openai.com/blog/function-calling-and-other-api-updates) is basically passing a JSON schema as part of the prompt to the model, attempting to force the model to generate a specific JSON output. Even if you're not using OpenAI as your model, you can still attempt to pass a JSON schema to your model and see if it generates the output you want. And, you should still use Pydantic or its alternatives to validate the output.\n",
    "\n",
    "Notice how some of the field descriptions are written in a way that is similar to how you would write a prompt. This is because function calling will be passing these description to the model as part of the prompt and infer what the output should be. If you are writing an API endpoint exposed by your model, such description is not as clean and should be written in a way that is more suitable for API documentation."
   ]
  },
  {
   "cell_type": "code",
   "execution_count": 200,
   "metadata": {},
   "outputs": [],
   "source": [
    "from pydantic import Field\n",
    "from instructor import OpenAISchema\n",
    "from enum import Enum\n",
    "from typing import List\n",
    "\n",
    "class EntityType(OpenAISchema):\n",
    "    name: str = Field(..., description=\"Name of the entity type.\")\n",
    "    description: str = Field(..., description=\"Description of the entity type.\")\n",
    "    examples: List[str] = Field(..., description=\"List of examples of the entity type.\")\n",
    "class EntityTypeSuggestionsOutput(OpenAISchema):\n",
    "    entity_types: List[EntityType] = Field(\n",
    "        ..., description=\"\"\"List of entity types suggested. Entity type name should be all uppercase \n",
    "        and separated by underscores (i.e. PERSON, LOCATION, PHONE_NUMBER, etc.\"\"\")"
   ]
  },
  {
   "cell_type": "markdown",
   "metadata": {},
   "source": [
    "## Workflow\n",
    "\n",
    "### Step 1: Natural Language Generation\n",
    "Typically, users should already have specific named entities in their mind to create a Named Entity Recognition task. But in some business cases, users may not already know what named entities they want to extract. In this case, we can use a Natural Language Generation task to suggest a list of named entities."
   ]
  },
  {
   "cell_type": "code",
   "execution_count": 279,
   "metadata": {},
   "outputs": [],
   "source": [
    "import openai\n",
    "PERSONA = 'eCommerce merchandiser'\n",
    "PURPOSE = 'to provide relevant shopping information for computers to shoppers'\n",
    "\n",
    "entity_suggestions = openai.ChatCompletion.create(\n",
    "    model=\"gpt-3.5-turbo-0613\",\n",
    "    functions=[EntityTypeSuggestionsOutput.openai_schema],\n",
    "    function_call={\"name\": EntityTypeSuggestionsOutput.openai_schema[\"name\"]},\n",
    "    messages=[\n",
    "        {\n",
    "\t\"role\": \"user\", \n",
    "\t\"content\": f\"\"\"\n",
    "You are given a persona and a purpose. Act as the persona, understand the persona's goal, and generate a list of named entity types that\n",
    "specifically relate to the persona and the purpose. Consider the following context:\n",
    "Persona: {PERSONA}\n",
    "Purpose: {PURPOSE}\n",
    " \"\"\"\n",
    "\t}        \n",
    "    ],\n",
    ")    "
   ]
  },
  {
   "cell_type": "code",
   "execution_count": 280,
   "metadata": {},
   "outputs": [
    {
     "data": {
      "text/plain": [
       "<OpenAIObject chat.completion id=chatcmpl-8C9BAaQA8kZewAoibUHRHM2x5PBPo at 0x7f645fe86b80> JSON: {\n",
       "  \"id\": \"chatcmpl-8C9BAaQA8kZewAoibUHRHM2x5PBPo\",\n",
       "  \"object\": \"chat.completion\",\n",
       "  \"created\": 1697905912,\n",
       "  \"model\": \"gpt-3.5-turbo-0613\",\n",
       "  \"choices\": [\n",
       "    {\n",
       "      \"index\": 0,\n",
       "      \"message\": {\n",
       "        \"role\": \"assistant\",\n",
       "        \"content\": null,\n",
       "        \"function_call\": {\n",
       "          \"name\": \"EntityTypeSuggestionsOutput\",\n",
       "          \"arguments\": \"{\\n  \\\"entity_types\\\": [\\n    {\\n      \\\"name\\\": \\\"COMPUTER_BRAND\\\",\\n      \\\"description\\\": \\\"The brand of the computer\\\",\\n      \\\"examples\\\": [\\\"HP\\\", \\\"Dell\\\", \\\"Apple\\\"]\\n    },\\n    {\\n      \\\"name\\\": \\\"COMPUTER_MODEL\\\",\\n      \\\"description\\\": \\\"The model name or number of the computer\\\",\\n      \\\"examples\\\": [\\\"Inspiron 15\\\", \\\"MacBook Pro\\\"]\\n    },\\n    {\\n      \\\"name\\\": \\\"COMPUTER_FEATURE\\\",\\n      \\\"description\\\": \\\"The features or specifications of the computer\\\",\\n      \\\"examples\\\": [\\\"Processor\\\", \\\"RAM\\\", \\\"Storage\\\", \\\"Graphics Card\\\"]\\n    },\\n    {\\n      \\\"name\\\": \\\"COMPUTER_PRICE\\\",\\n      \\\"description\\\": \\\"The price range or specific price of the computer\\\",\\n      \\\"examples\\\": [\\\"$500 - $1000\\\", \\\"$1500\\\", \\\"under $500\\\"]\\n    },\\n    {\\n      \\\"name\\\": \\\"COMPUTER_REVIEW\\\",\\n      \\\"description\\\": \\\"The reviews or ratings of the computer\\\",\\n      \\\"examples\\\": [\\\"5 stars\\\", \\\"positive review\\\", \\\"customer rating\\\"]\\n    }\\n  ]\\n}\"\n",
       "        }\n",
       "      },\n",
       "      \"finish_reason\": \"stop\"\n",
       "    }\n",
       "  ],\n",
       "  \"usage\": {\n",
       "    \"prompt_tokens\": 181,\n",
       "    \"completion_tokens\": 231,\n",
       "    \"total_tokens\": 412\n",
       "  }\n",
       "}"
      ]
     },
     "execution_count": 280,
     "metadata": {},
     "output_type": "execute_result"
    }
   ],
   "source": [
    "# entity suggestions is an OpenAI Chat Completion object\n",
    "entity_suggestions"
   ]
  },
  {
   "cell_type": "code",
   "execution_count": 281,
   "metadata": {},
   "outputs": [
    {
     "data": {
      "text/plain": [
       "EntityTypeSuggestionsOutput(entity_types=[EntityType(name='COMPUTER_BRAND', description='The brand of the computer', examples=['HP', 'Dell', 'Apple']), EntityType(name='COMPUTER_MODEL', description='The model name or number of the computer', examples=['Inspiron 15', 'MacBook Pro']), EntityType(name='COMPUTER_FEATURE', description='The features or specifications of the computer', examples=['Processor', 'RAM', 'Storage', 'Graphics Card']), EntityType(name='COMPUTER_PRICE', description='The price range or specific price of the computer', examples=['$500 - $1000', '$1500', 'under $500']), EntityType(name='COMPUTER_REVIEW', description='The reviews or ratings of the computer', examples=['5 stars', 'positive review', 'customer rating'])])"
      ]
     },
     "execution_count": 281,
     "metadata": {},
     "output_type": "execute_result"
    }
   ],
   "source": [
    "# OpenAISchema can be used to parse the response again \n",
    "EntityTypeSuggestionsOutput.from_response(entity_suggestions)"
   ]
  },
  {
   "cell_type": "markdown",
   "metadata": {},
   "source": [
    "### Step 2: Named Entity Recognition\n",
    "Once we have a list of named entities, we can pass them to a Named Entity Recognition task to extract the named entities from a given article."
   ]
  },
  {
   "cell_type": "code",
   "execution_count": 204,
   "metadata": {},
   "outputs": [],
   "source": [
    "class Entity(OpenAISchema):\n",
    "    start: int = Field(..., alias=\"start_pos\", description=\"The starting position of the entity in the text.\")\n",
    "    end: int = Field(..., alias=\"end_pos\", description=\"The ending position of the entity in the text.\")\n",
    "    label: str = Field(..., description=\"The label of the entity.\")\n",
    "    text: str = Field(..., description=\"The text of the entity.\")\n",
    "\n",
    "class NEROutput(OpenAISchema):\n",
    "    entities: List[Entity] = Field(..., description=\"The list of entities found in the text.\")\n",
    "    "
   ]
  },
  {
   "cell_type": "code",
   "execution_count": 291,
   "metadata": {},
   "outputs": [],
   "source": [
    "ENTITY_TYPES = EntityTypeSuggestionsOutput.from_response(entity_suggestions).entity_types\n",
    "\n",
    "ARTICLE = \"\"\"\n",
    "Title: \"SmithTech's Quantum X1: A Revolution in Computing\"\n",
    "\n",
    "Description:\n",
    "Introducing the SmithTech Quantum X1, a masterpiece of computing innovation by renowned tech visionary, John Smith. This cutting-edge computer is not just a device; it's a breakthrough in the world of technology.\n",
    "\n",
    "Key Features:\n",
    "\n",
    "Powered by the latest SmithTech Quantum Processor, designed by the genius himself, John Smith, delivering unrivaled speed and efficiency.\n",
    "Immerse yourself in stunning 4K visuals with the Quantum X1's advanced graphics card.\n",
    "Lightning-fast NVMe SSD storage ensures rapid data access and load times.\n",
    "Experience seamless multitasking with ample RAM, allowing you to conquer any task.\n",
    "Sleek, futuristic design that complements any workspace, embodying the essence of SmithTech's commitment to excellence.\n",
    "John Smith's Quantum X1 is not just a computer; it's a statement of innovation and a testament to SmithTech's legacy in pushing the boundaries of what's possible in computing technology. Elevate your computing experience to a whole new dimension with the Quantum X1 – where visionary technology meets reality.\n",
    "\"\"\""
   ]
  },
  {
   "cell_type": "code",
   "execution_count": 283,
   "metadata": {},
   "outputs": [],
   "source": [
    "ENTITY_TYPES = '\\n'.join([x.model_dump_json() for x in ENTITY_TYPES])"
   ]
  },
  {
   "cell_type": "code",
   "execution_count": 292,
   "metadata": {},
   "outputs": [],
   "source": [
    "import openai\n",
    "extracted_entities = openai.ChatCompletion.create(\n",
    "    model=\"gpt-4\",\n",
    "    functions=[NEROutput.openai_schema],\n",
    "    function_call={\"name\": NEROutput.openai_schema[\"name\"]},\n",
    "    messages=[\n",
    "        {\n",
    "\t\"role\": \"user\", \n",
    "\t\"content\":f\"\"\"\n",
    " You are a named entity recognition model.  Please be as strict as possible in your predictions.\n",
    " You are given a text, and you are to extract the following entity types: {ENTITY_TYPES}\n",
    " \"\"\"\n",
    "\t},\n",
    "        {\n",
    "\t\"role\": \"user\", \n",
    "\t\"content\": f\"Text: {ARTICLE}\"\n",
    "\t}        \n",
    "    ],\n",
    ")"
   ]
  },
  {
   "cell_type": "code",
   "execution_count": 293,
   "metadata": {},
   "outputs": [],
   "source": [
    "ENTITIES = NEROutput.from_response(extracted_entities).entities"
   ]
  },
  {
   "cell_type": "code",
   "execution_count": 318,
   "metadata": {},
   "outputs": [
    {
     "data": {
      "text/plain": [
       "[Entity(start=13, end=36, label='COMPUTER_MODEL', text=\"SmithTech's Quantum X1\"),\n",
       " Entity(start=69, end=79, label='COMPUTER_BRAND', text='SmithTech'),\n",
       " Entity(start=154, end=160, label='COMPUTER_FEATURE', text='device'),\n",
       " Entity(start=170, end=198, label='COMPUTER_MODEL', text='SmithTech Quantum X1'),\n",
       " Entity(start=210, end=221, label='COMPUTER_BRAND', text='SmithTech'),\n",
       " Entity(start=237, end=248, label='COMPUTER_FEATURE', text='Quantum Processor'),\n",
       " Entity(start=265, end=275, label='COMPUTER_BRAND', text='SmithTech'),\n",
       " Entity(start=343, end=356, label='COMPUTER_FEATURE', text='graphics card'),\n",
       " Entity(start=368, end=376, label='COMPUTER_FEATURE', text='NVMe SSD'),\n",
       " Entity(start=392, end=418, label='COMPUTER_FEATURE', text='rapid data access and load times'),\n",
       " Entity(start=423, end=427, label='COMPUTER_FEATURE', text='RAM'),\n",
       " Entity(start=444, end=462, label='COMPUTER_FEATURE', text='conquer any task'),\n",
       " Entity(start=483, end=490, label='COMPUTER_FEATURE', text='design'),\n",
       " Entity(start=611, end=621, label='COMPUTER_BRAND', text='SmithTech'),\n",
       " Entity(start=639, end=659, label='COMPUTER_MODEL', text='Quantum X1')]"
      ]
     },
     "execution_count": 318,
     "metadata": {},
     "output_type": "execute_result"
    }
   ],
   "source": [
    "ENTITIES"
   ]
  },
  {
   "cell_type": "markdown",
   "metadata": {},
   "source": [
    "### Step 3: Natural Language Inference\n",
    "Once we have the extracted named entities, we can pass them to a Natural Language Inference task to act as a proxy to data quality check. Note that this type of automatic check is only for proxy, not a replacement for human review. Typically, you would treat human evaluation as golden standard, and use the model to flag potential issues for human review."
   ]
  },
  {
   "cell_type": "code",
   "execution_count": 295,
   "metadata": {},
   "outputs": [],
   "source": [
    "class Nli(Enum):\n",
    "    contradiction = \"contradiction\"\n",
    "    neutral = \"neutral\"\n",
    "    entailment = \"entailment\"\n",
    "    \n",
    "class NliOutput(OpenAISchema):\n",
    "    explanation: str = Field(..., description=\"Think step by step whether the premise entails the hypothesis\")    \n",
    "    label: Nli = Field(..., description=\"The label of the text.\")"
   ]
  },
  {
   "cell_type": "markdown",
   "metadata": {},
   "source": [
    "Here we are passing only one entity at a time instead of the entire list. This is because the model more likely would lose context if the entire list is passed. Also, it does not leverage concurrent processing."
   ]
  },
  {
   "cell_type": "code",
   "execution_count": 296,
   "metadata": {},
   "outputs": [],
   "source": [
    "def nli_check(entity):\n",
    "    try:\n",
    "        output = openai.ChatCompletion.create(\n",
    "        model=\"gpt-3.5-turbo-0613\",\n",
    "        functions=[NliOutput.openai_schema],\n",
    "        function_call={\"name\": NliOutput.openai_schema[\"name\"]},\n",
    "        messages=[\n",
    "            {\n",
    "        \"role\": \"user\", \n",
    "        \"content\": f\"\"\"\n",
    "    Premise: Text: {ARTICLE}\n",
    "    Hypothesis: The text contains {entity.label}: {entity.text}\n",
    "    \"\"\"\n",
    "        },\n",
    "            {\n",
    "        \"role\": \"user\", \n",
    "        \"content\": f\"\"\"\n",
    "ENTITY Span: {entity.start} - {entity.end}\n",
    "Entity Type: {entity.label}\n",
    "Entity Value: {entity.text}\n",
    "    \"\"\"\n",
    "        }        \n",
    "        ],\n",
    "    )    \n",
    "        return NliOutput.from_response(output), entity\n",
    "    except:\n",
    "        return output"
   ]
  },
  {
   "cell_type": "code",
   "execution_count": 297,
   "metadata": {},
   "outputs": [],
   "source": [
    "import concurrent\n",
    "with concurrent.futures.ThreadPoolExecutor(max_workers=5) as executor:\n",
    "    evaluations = list(executor.map(nli_check, ENTITIES))"
   ]
  },
  {
   "cell_type": "code",
   "execution_count": 298,
   "metadata": {},
   "outputs": [
    {
     "data": {
      "text/plain": [
       "[(NliOutput(explanation=\"The premise text describes a computer called SmithTech's Quantum X1. The hypothesis states that the text contains the computer model 'SmithTech's Quantum X1'. Based on the provided information, the hypothesis is correct.\", label=<Nli.entailment: 'entailment'>),\n",
       "  Entity(start=13, end=36, label='COMPUTER_MODEL', text=\"SmithTech's Quantum X1\")),\n",
       " (NliOutput(explanation=\"The premise explicitly mentions 'SmithTech' several times, including in the title and description. Therefore, the hypothesis that the text contains the computer brand 'SmithTech' is true.\", label=<Nli.entailment: 'entailment'>),\n",
       "  Entity(start=69, end=79, label='COMPUTER_BRAND', text='SmithTech')),\n",
       " (NliOutput(explanation=\"The premise describes the SmithTech Quantum X1 as a computer, not just a device. Therefore, the hypothesis that the text contains the computer feature 'device' is incorrect.\", label=<Nli.contradiction: 'contradiction'>),\n",
       "  Entity(start=154, end=160, label='COMPUTER_FEATURE', text='device')),\n",
       " (NliOutput(explanation=\"The entity span 'SmithTech Quantum X1' is mentioned in the text as the name of the computer model.\", label=<Nli.entailment: 'entailment'>),\n",
       "  Entity(start=170, end=198, label='COMPUTER_MODEL', text='SmithTech Quantum X1')),\n",
       " (NliOutput(explanation='The text contains the computer brand SmithTech.', label=<Nli.entailment: 'entailment'>),\n",
       "  Entity(start=210, end=221, label='COMPUTER_BRAND', text='SmithTech')),\n",
       " (NliOutput(explanation='The premise describes the key features of the SmithTech Quantum X1 computer, which is powered by the latest SmithTech Quantum Processor.', label=<Nli.entailment: 'entailment'>),\n",
       "  Entity(start=237, end=248, label='COMPUTER_FEATURE', text='Quantum Processor')),\n",
       " (NliOutput(explanation=\"The premise explicitly mentions 'SmithTech' as the computer brand.\", label=<Nli.entailment: 'entailment'>),\n",
       "  Entity(start=265, end=275, label='COMPUTER_BRAND', text='SmithTech')),\n",
       " (NliOutput(explanation='The premise describes the key features of the SmithTech Quantum X1 computer, including its advanced graphics card.', label=<Nli.entailment: 'entailment'>),\n",
       "  Entity(start=343, end=356, label='COMPUTER_FEATURE', text='graphics card')),\n",
       " (NliOutput(explanation='The premise describes the key features of the SmithTech Quantum X1 computer, and one of the key features mentioned is the Lightning-fast NVMe SSD storage. This confirms that the text contains the COMPUTER_FEATURE: NVMe SSD.', label=<Nli.entailment: 'entailment'>),\n",
       "  Entity(start=368, end=376, label='COMPUTER_FEATURE', text='NVMe SSD')),\n",
       " (NliOutput(explanation=\"The entity 'rapid data access and load times' is mentioned in the key features of the SmithTech Quantum X1 computer described in the text. Therefore, the hypothesis that the text contains the computer feature 'rapid data access and load times' is correct.\", label=<Nli.entailment: 'entailment'>),\n",
       "  Entity(start=392, end=418, label='COMPUTER_FEATURE', text='rapid data access and load times')),\n",
       " (NliOutput(explanation='The text mentions ample RAM for seamless multitasking.', label=<Nli.entailment: 'entailment'>),\n",
       "  Entity(start=423, end=427, label='COMPUTER_FEATURE', text='RAM')),\n",
       " (NliOutput(explanation='The key features mentioned in the text include ample RAM that allows for seamless multitasking. Conquering any task can be seen as a result of having ample RAM.', label=<Nli.entailment: 'entailment'>),\n",
       "  Entity(start=444, end=462, label='COMPUTER_FEATURE', text='conquer any task')),\n",
       " (NliOutput(explanation='The premise discusses the design of the Quantum X1 computer, highlighting its sleek and futuristic design that complements any workspace.', label=<Nli.entailment: 'entailment'>),\n",
       "  Entity(start=483, end=490, label='COMPUTER_FEATURE', text='design')),\n",
       " (NliOutput(explanation=\"The text mentions the brand name 'SmithTech' in multiple instances, such as 'SmithTech Quantum X1', 'SmithTech Quantum Processor', and 'SmithTech's commitment to excellence.' Therefore, the hypothesis is true.\", label=<Nli.entailment: 'entailment'>),\n",
       "  Entity(start=611, end=621, label='COMPUTER_BRAND', text='SmithTech')),\n",
       " (NliOutput(explanation='The premise describes the computer model Quantum X1 in detail and highlights its key features. The hypothesis states that the text contains the computer model Quantum X1. Based on the information provided in the premise, the hypothesis can be considered true.', label=<Nli.entailment: 'entailment'>),\n",
       "  Entity(start=639, end=659, label='COMPUTER_MODEL', text='Quantum X1'))]"
      ]
     },
     "execution_count": 298,
     "metadata": {},
     "output_type": "execute_result"
    }
   ],
   "source": [
    "evaluations"
   ]
  }
 ],
 "metadata": {
  "kernelspec": {
   "display_name": ".venv",
   "language": "python",
   "name": "python3"
  },
  "language_info": {
   "codemirror_mode": {
    "name": "ipython",
    "version": 3
   },
   "file_extension": ".py",
   "mimetype": "text/x-python",
   "name": "python",
   "nbconvert_exporter": "python",
   "pygments_lexer": "ipython3",
   "version": "3.9.18"
  }
 },
 "nbformat": 4,
 "nbformat_minor": 2
}
